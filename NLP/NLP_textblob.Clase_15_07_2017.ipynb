{
 "cells": [
  {
   "cell_type": "markdown",
   "metadata": {},
   "source": [
    "\n",
    "## textblob: otro módulo para tareas de PLN (NLTK + pattern)\n",
    "\n",
    "textblob es una librería de procesamiento del texto para Python que permite realizar tareas de Procesamiento del Lenguaje Natural como análisis morfológico, extracción de entidades, análisis de opinión, traducción automática, etc.\n"
   ]
  },
  {
   "cell_type": "code",
   "execution_count": 8,
   "metadata": {
    "collapsed": false
   },
   "outputs": [],
   "source": [
    "from textblob import TextBlob"
   ]
  },
  {
   "cell_type": "code",
   "execution_count": 9,
   "metadata": {
    "collapsed": true
   },
   "outputs": [],
   "source": [
    "texto = '''In new lawsuits brought against the ride-sharing companies Uber and Lyft, the top prosecutors in Los Angeles \n",
    "and San Francisco counties make an important point about the lightly regulated sharing economy. The consumers who \n",
    "participate deserve a  very clear picture of the risks they're taking'''\n",
    "t = TextBlob(texto)"
   ]
  },
  {
   "cell_type": "code",
   "execution_count": 12,
   "metadata": {
    "collapsed": false
   },
   "outputs": [
    {
     "name": "stdout",
     "output_type": "stream",
     "text": [
      "defaultdict(<type 'int'>, {u'uber': 1, u'and': 2, u'lyft': 1, u'san': 1, u'lightly': 1, u'point': 1, u'participate': 1, u'an': 1, u'brought': 1, u'sharing': 1, u'regulated': 1, u'in': 2, u'make': 1, u'consumers': 1, u're': 1, u'deserve': 1, u'lawsuits': 1, u'los': 1, u'new': 1, u'economy': 1, u'picture': 1, u'francisco': 1, u'very': 1, u'who': 1, u'important': 1, u'they': 1, u'taking': 1, u'counties': 1, u'a': 1, u'about': 1, u'prosecutors': 1, u'of': 1, u'clear': 1, u'companies': 1, u'against': 1, u'ride-sharing': 1, u'angeles': 1, u'risks': 1, u'the': 5, u'top': 1})\n"
     ]
    }
   ],
   "source": [
    "print(t.word_counts)"
   ]
  },
  {
   "cell_type": "code",
   "execution_count": 13,
   "metadata": {
    "collapsed": false
   },
   "outputs": [
    {
     "name": "stdout",
     "output_type": "stream",
     "text": [
      "('Tenemos', 2, 'oraciones')\n"
     ]
    }
   ],
   "source": [
    "print('Tenemos',len(t.sentences),'oraciones')"
   ]
  },
  {
   "cell_type": "code",
   "execution_count": 18,
   "metadata": {
    "collapsed": false
   },
   "outputs": [
    {
     "name": "stdout",
     "output_type": "stream",
     "text": [
      "In new lawsuits brought against the ride-sharing companies Uber and Lyft, the top prosecutors in Los Angeles \n",
      "and San Francisco counties make an important point about the lightly regulated sharing economy.\n",
      "The consumers who \n",
      "participate deserve a  very clear picture of the risks they're taking\n"
     ]
    }
   ],
   "source": [
    "for linea in t.sentences:\n",
    "    print(linea)"
   ]
  },
  {
   "cell_type": "code",
   "execution_count": 20,
   "metadata": {
    "collapsed": false
   },
   "outputs": [
    {
     "name": "stdout",
     "output_type": "stream",
     "text": [
      "('Hay', 46, 'palabras en t')\n"
     ]
    }
   ],
   "source": [
    "#Palabras\n",
    "print('Hay',len(t.words),'palabras en t')"
   ]
  },
  {
   "cell_type": "markdown",
   "metadata": {},
   "source": [
    "\n",
    "\n",
    "La propiedad .noun_phrases nos permite acceder a la lista de entidades (en realidad, son sintagmas nominales) incluídos en nuestro textblob."
   ]
  },
  {
   "cell_type": "code",
   "execution_count": 23,
   "metadata": {
    "collapsed": false
   },
   "outputs": [
    {
     "name": "stdout",
     "output_type": "stream",
     "text": [
      "('t contiene', 8, 'entidades')\n",
      "new lawsuits\n",
      "uber\n",
      "lyft\n",
      "top prosecutors\n",
      "los angeles\n",
      "san francisco\n",
      "important point\n",
      "clear picture\n"
     ]
    }
   ],
   "source": [
    "print('t contiene',len(t.noun_phrases),'entidades')\n",
    "for i in t.noun_phrases:\n",
    "    print(i)"
   ]
  },
  {
   "cell_type": "code",
   "execution_count": 24,
   "metadata": {
    "collapsed": false
   },
   "outputs": [
    {
     "name": "stdout",
     "output_type": "stream",
     "text": [
      "('In', 'In', 'Ins')\n",
      "('new', 'new', 'news')\n",
      "(u'lawsuit', 'lawsuits', 'lawsuit')\n",
      "('brought', 'brought', 'broughts')\n",
      "('against', 'against', 'againsts')\n",
      "('the', 'the', 'thes')\n",
      "('ride-sharing', 'ride-sharing', 'ride-sharings')\n",
      "(u'company', 'companies', 'company')\n",
      "('Uber', 'Uber', 'Ubers')\n",
      "('and', 'and', 'ands')\n",
      "('Lyft', 'Lyft', 'Lyfts')\n",
      "('the', 'the', 'thes')\n",
      "('top', 'top', 'tops')\n",
      "(u'prosecutor', 'prosecutors', 'prosecutor')\n",
      "('in', 'in', 'ins')\n",
      "('Los', 'Los', 'Lo')\n",
      "('Angeles', 'Angeles', 'Angele')\n",
      "('and', 'and', 'ands')\n",
      "('San', 'San', 'Sans')\n",
      "('Francisco', 'Francisco', 'Franciscoes')\n",
      "(u'county', 'counties', 'county')\n",
      "('make', 'make', 'makes')\n",
      "('an', 'an', 'some')\n",
      "('important', 'important', 'importants')\n",
      "('point', 'point', 'points')\n",
      "('about', 'about', 'abouts')\n",
      "('the', 'the', 'thes')\n",
      "('lightly', 'lightly', 'lightlies')\n",
      "('regulated', 'regulated', 'regulateds')\n",
      "('sharing', 'sharing', 'sharings')\n",
      "('economy', 'economy', 'economies')\n",
      "('The', 'The', 'Thes')\n",
      "(u'consumer', 'consumers', 'consumer')\n",
      "('who', 'who', 'whoes')\n",
      "('participate', 'participate', 'participates')\n",
      "('deserve', 'deserve', 'deserves')\n",
      "('a', 'a', 'some')\n",
      "('very', 'very', 'veries')\n",
      "('clear', 'clear', 'clears')\n",
      "('picture', 'picture', 'pictures')\n",
      "('of', 'of', 'ofs')\n",
      "('the', 'the', 'thes')\n",
      "(u'risk', 'risks', 'risk')\n",
      "('they', 'they', 'they')\n",
      "(\"'re\", \"'re\", \"'res\")\n",
      "('taking', 'taking', 'takings')\n"
     ]
    }
   ],
   "source": [
    "#Singulares y plurales\n",
    "for word in t.words:\n",
    "    if word.endswith('s'):\n",
    "          print(word.lemmatize(), word, word.singularize())\n",
    "    else:\n",
    "        print(word.lemmatize(), word, word.pluralize())"
   ]
  },
  {
   "cell_type": "code",
   "execution_count": 25,
   "metadata": {
    "collapsed": false
   },
   "outputs": [
    {
     "data": {
      "text/plain": [
       "u\"In/IN/B-PP/B-PNP new/JJ/B-NP/I-PNP lawsuits/NNS/I-NP/I-PNP brought/VBN/B-VP/I-PNP against/IN/B-PP/B-PNP the/DT/B-NP/I-PNP ride-sharing/JJ/I-NP/I-PNP companies/NNS/I-NP/I-PNP Uber/NNP/I-NP/I-PNP and/CC/O/O Lyft/NNP/B-NP/O ,/,/O/O the/DT/B-NP/O top/JJ/I-NP/O prosecutors/NNS/I-NP/O in/IN/B-PP/B-PNP Los/NNP/B-NP/I-PNP Angeles/NNP/I-NP/I-PNP and/CC/I-NP/I-PNP San/NNP/I-NP/I-PNP Francisco/NNP/I-NP/I-PNP counties/NNS/I-NP/I-PNP make/VB/B-VP/O an/DT/B-NP/O important/JJ/I-NP/O point/NN/I-NP/O about/IN/B-PP/O the/DT/O/O lightly/RB/B-VP/O regulated/VBN/I-VP/O sharing/VBG/I-VP/O economy/NN/B-NP/O ././O/O\\nThe/DT/B-NP/O consumers/NNS/I-NP/O who/WP/O/O participate/VB/B-VP/O deserve/VBP/I-VP/O a/DT/B-NP/O very/RB/I-NP/O clear/JJ/I-NP/O picture/NN/I-NP/O of/IN/B-PP/B-PNP the/DT/B-NP/I-PNP risks/NNS/I-NP/I-PNP they/PRP/I-NP/I-PNP '/POS/O/O re/NN/B-NP/O taking/VBG/B-VP/O\""
      ]
     },
     "execution_count": 25,
     "metadata": {},
     "output_type": "execute_result"
    }
   ],
   "source": [
    "# Análisis Sintáctico\n",
    "t.parse()"
   ]
  },
  {
   "cell_type": "markdown",
   "metadata": {},
   "source": [
    "## Traducción automática\n",
    "\n",
    "A partir de cualquier texto procesado con TextBlob, podemos acceder a un traductor automático de bastante calidad con el método .translate."
   ]
  },
  {
   "cell_type": "code",
   "execution_count": 26,
   "metadata": {
    "collapsed": false
   },
   "outputs": [
    {
     "name": "stdout",
     "output_type": "stream",
     "text": [
      "China lunar exploration project, also known as Chang'e project, is the first lunar exploration project launched in China, officially launched on March 1, 2003\n"
     ]
    }
   ],
   "source": [
    "# De Chino a Inglés\n",
    "oracion_zh = u\"中国探月工程 亦稱嫦娥工程，是中国启动的第一个探月工程，于2003年3月1日正式启动\"\n",
    "trans =TextBlob(oracion_zh)\n",
    "print(trans.translate(from_lang=\"zh-CN\", to=\"en\"))"
   ]
  },
  {
   "cell_type": "code",
   "execution_count": 27,
   "metadata": {
    "collapsed": false
   },
   "outputs": [
    {
     "name": "stdout",
     "output_type": "stream",
     "text": [
      "El proyecto de exploración lunar de China, también conocido como proyecto Chang'e, es el primer proyecto de exploración lunar lanzado en China, lanzado oficialmente el 1 de marzo de 2003\n"
     ]
    }
   ],
   "source": [
    "# A Español\n",
    "print(trans.translate(from_lang=\"zh-CN\", to=\"es\"))"
   ]
  },
  {
   "cell_type": "code",
   "execution_count": 29,
   "metadata": {
    "collapsed": false
   },
   "outputs": [
    {
     "name": "stdout",
     "output_type": "stream",
     "text": [
      "--------------\n",
      "Fui a Milán y disfruté de un burdel.\n"
     ]
    }
   ],
   "source": [
    "#con el slang no funciona tan bien\n",
    "print(\"--------------\")\n",
    "t_ita = TextBlob(u\"Sono andato a Milano e mi sono divertito un bordello.\")\n",
    "print(t_ita.translate(to=\"es\"))"
   ]
  },
  {
   "cell_type": "markdown",
   "metadata": {},
   "source": [
    "## WordNet\n",
    "\n",
    "textblob, más concretamente, cualquier objeto de la clase Word, nos permite acceder a la información de WordNet.\n"
   ]
  },
  {
   "cell_type": "code",
   "execution_count": 30,
   "metadata": {
    "collapsed": true
   },
   "outputs": [],
   "source": [
    "from textblob import Word\n",
    "from textblob.wordnet import VERB"
   ]
  },
  {
   "cell_type": "code",
   "execution_count": 35,
   "metadata": {
    "collapsed": false
   },
   "outputs": [
    {
     "data": {
      "text/plain": [
       "[Synset('chop.v.05'),\n",
       " Synset('hack.v.02'),\n",
       " Synset('hack.v.03'),\n",
       " Synset('hack.v.04'),\n",
       " Synset('hack.v.05'),\n",
       " Synset('hack.v.06'),\n",
       " Synset('hack.v.07'),\n",
       " Synset('hack.v.08')]"
      ]
     },
     "execution_count": 35,
     "metadata": {},
     "output_type": "execute_result"
    }
   ],
   "source": [
    "# Los synsets de la palabra \"hack\" como verbo\n",
    "hk = Word('hack')\n",
    "hk.get_synsets(pos=VERB)"
   ]
  },
  {
   "cell_type": "code",
   "execution_count": 36,
   "metadata": {
    "collapsed": false
   },
   "outputs": [
    {
     "data": {
      "text/plain": [
       "[u'a motor vehicle with four wheels; usually propelled by an internal combustion engine',\n",
       " u'a wheeled vehicle adapted to the rails of railroad',\n",
       " u'the compartment that is suspended from an airship and that carries personnel and the cargo and the power plant',\n",
       " u'where passengers ride up and down',\n",
       " u'a conveyance for passengers or freight on a cable railway']"
      ]
     },
     "execution_count": 36,
     "metadata": {},
     "output_type": "execute_result"
    }
   ],
   "source": [
    "# imprime la lista de definiciones de \"car\"\n",
    "Word('car').definitions"
   ]
  },
  {
   "cell_type": "code",
   "execution_count": 39,
   "metadata": {
    "collapsed": false
   },
   "outputs": [
    {
     "name": "stdout",
     "output_type": "stream",
     "text": [
      "[[Synset('entity.n.01'), Synset('physical_entity.n.01'), Synset('causal_agent.n.01'), Synset('person.n.01'), Synset('unskilled_person.n.01'), Synset('hack.n.01')], [Synset('entity.n.01'), Synset('physical_entity.n.01'), Synset('object.n.01'), Synset('whole.n.02'), Synset('living_thing.n.01'), Synset('organism.n.01'), Synset('person.n.01'), Synset('unskilled_person.n.01'), Synset('hack.n.01')]]\n",
      "[[Synset('entity.n.01'), Synset('physical_entity.n.01'), Synset('causal_agent.n.01'), Synset('person.n.01'), Synset('leader.n.01'), Synset('politician.n.02'), Synset('machine_politician.n.01')], [Synset('entity.n.01'), Synset('physical_entity.n.01'), Synset('object.n.01'), Synset('whole.n.02'), Synset('living_thing.n.01'), Synset('organism.n.01'), Synset('person.n.01'), Synset('leader.n.01'), Synset('politician.n.02'), Synset('machine_politician.n.01')]]\n",
      "[[Synset('entity.n.01'), Synset('physical_entity.n.01'), Synset('causal_agent.n.01'), Synset('person.n.01'), Synset('communicator.n.01'), Synset('writer.n.01'), Synset('hack.n.03')], [Synset('entity.n.01'), Synset('physical_entity.n.01'), Synset('object.n.01'), Synset('whole.n.02'), Synset('living_thing.n.01'), Synset('organism.n.01'), Synset('person.n.01'), Synset('communicator.n.01'), Synset('writer.n.01'), Synset('hack.n.03')]]\n",
      "[[Synset('entity.n.01'), Synset('physical_entity.n.01'), Synset('object.n.01'), Synset('whole.n.02'), Synset('artifact.n.01'), Synset('instrumentality.n.03'), Synset('implement.n.01'), Synset('tool.n.01'), Synset('hack.n.04')]]\n",
      "[[Synset('entity.n.01'), Synset('physical_entity.n.01'), Synset('object.n.01'), Synset('whole.n.02'), Synset('artifact.n.01'), Synset('instrumentality.n.03'), Synset('container.n.01'), Synset('wheeled_vehicle.n.01'), Synset('self-propelled_vehicle.n.01'), Synset('motor_vehicle.n.01'), Synset('car.n.01'), Synset('cab.n.03')], [Synset('entity.n.01'), Synset('physical_entity.n.01'), Synset('object.n.01'), Synset('whole.n.02'), Synset('artifact.n.01'), Synset('instrumentality.n.03'), Synset('conveyance.n.03'), Synset('vehicle.n.01'), Synset('wheeled_vehicle.n.01'), Synset('self-propelled_vehicle.n.01'), Synset('motor_vehicle.n.01'), Synset('car.n.01'), Synset('cab.n.03')]]\n",
      "[[Synset('entity.n.01'), Synset('physical_entity.n.01'), Synset('object.n.01'), Synset('whole.n.02'), Synset('living_thing.n.01'), Synset('organism.n.01'), Synset('animal.n.01'), Synset('chordate.n.01'), Synset('vertebrate.n.01'), Synset('mammal.n.01'), Synset('placental.n.01'), Synset('ungulate.n.01'), Synset('odd-toed_ungulate.n.01'), Synset('equine.n.01'), Synset('horse.n.01'), Synset('hack.n.06')]]\n",
      "[[Synset('entity.n.01'), Synset('physical_entity.n.01'), Synset('object.n.01'), Synset('whole.n.02'), Synset('living_thing.n.01'), Synset('organism.n.01'), Synset('animal.n.01'), Synset('chordate.n.01'), Synset('vertebrate.n.01'), Synset('mammal.n.01'), Synset('placental.n.01'), Synset('ungulate.n.01'), Synset('odd-toed_ungulate.n.01'), Synset('equine.n.01'), Synset('horse.n.01'), Synset('hack.n.07')]]\n",
      "[[Synset('entity.n.01'), Synset('physical_entity.n.01'), Synset('object.n.01'), Synset('whole.n.02'), Synset('living_thing.n.01'), Synset('organism.n.01'), Synset('animal.n.01'), Synset('chordate.n.01'), Synset('vertebrate.n.01'), Synset('mammal.n.01'), Synset('placental.n.01'), Synset('ungulate.n.01'), Synset('odd-toed_ungulate.n.01'), Synset('equine.n.01'), Synset('horse.n.01'), Synset('saddle_horse.n.01'), Synset('hack.n.08')]]\n",
      "[[Synset('move.v.02'), Synset('separate.v.02'), Synset('cut.v.01'), Synset('chop.v.05')]]\n",
      "[[Synset('act.v.01'), Synset('cope.v.01'), Synset('hack.v.02')]]\n",
      "[[Synset('move.v.02'), Synset('separate.v.02'), Synset('cut.v.01'), Synset('hack.v.03')]]\n",
      "[[Synset('compete.v.01'), Synset('play.v.01'), Synset('foul.v.04'), Synset('hack.v.04')]]\n",
      "[[Synset('compete.v.01'), Synset('play.v.01'), Synset('foul.v.04'), Synset('hack.v.05')]]\n",
      "[[Synset('make.v.03'), Synset('create_by_mental_act.v.01'), Synset('program.v.02'), Synset('hack.v.06')]]\n",
      "[[Synset('change.v.01'), Synset('edit.v.01'), Synset('hack.v.07')]]\n",
      "[[Synset('exhaust.v.05'), Synset('expectorate.v.02'), Synset('cough.v.01'), Synset('hack.v.08')]]\n"
     ]
    }
   ],
   "source": [
    "# recorre la jerarquía de hiperónimos\n",
    "for s in hk.synsets:\n",
    "    print(s.hypernym_paths())"
   ]
  },
  {
   "cell_type": "markdown",
   "metadata": {},
   "source": [
    "## ANÁLISIS DE OPINIÓN"
   ]
  },
  {
   "cell_type": "code",
   "execution_count": 41,
   "metadata": {
    "collapsed": false
   },
   "outputs": [
    {
     "name": "stdout",
     "output_type": "stream",
     "text": [
      "Sentiment(polarity=0.634375, subjectivity=0.475)\n"
     ]
    }
   ],
   "source": [
    "opinion1 = TextBlob('This restaurant is great. We had too much fun!!')\n",
    "print(opinion1.sentiment)"
   ]
  },
  {
   "cell_type": "code",
   "execution_count": 42,
   "metadata": {
    "collapsed": false
   },
   "outputs": [
    {
     "name": "stdout",
     "output_type": "stream",
     "text": [
      "Sentiment(polarity=0.0, subjectivity=0.0)\n"
     ]
    }
   ],
   "source": [
    "opinion2 = TextBlob(\"Google News to close in Spain.\")\n",
    "print(opinion2.sentiment)"
   ]
  },
  {
   "cell_type": "code",
   "execution_count": 43,
   "metadata": {
    "collapsed": false
   },
   "outputs": [
    {
     "name": "stdout",
     "output_type": "stream",
     "text": [
      "Sentiment(polarity=0.125, subjectivity=1.0)\n"
     ]
    }
   ],
   "source": [
    "m = TextBlob(\"This is fucking awesome!! :-(\")\n",
    "print(m.sentiment)\n"
   ]
  },
  {
   "cell_type": "code",
   "execution_count": 44,
   "metadata": {
    "collapsed": false
   },
   "outputs": [
    {
     "name": "stdout",
     "output_type": "stream",
     "text": [
      "I have good spelling!\n",
      "In name in On!\n"
     ]
    }
   ],
   "source": [
    "#  corrección ortográfica\n",
    "b1 = TextBlob(\"I havv goood speling!\")\n",
    "print(b1.correct())\n",
    "\n",
    "b2 = TextBlob(\"Miy naem iz Jonh!\")\n",
    "print(b2.correct())"
   ]
  },
  {
   "cell_type": "code",
   "execution_count": null,
   "metadata": {
    "collapsed": true
   },
   "outputs": [],
   "source": []
  }
 ],
 "metadata": {
  "kernelspec": {
   "display_name": "Python 2",
   "language": "python",
   "name": "python2"
  },
  "language_info": {
   "codemirror_mode": {
    "name": "ipython",
    "version": 2
   },
   "file_extension": ".py",
   "mimetype": "text/x-python",
   "name": "python",
   "nbconvert_exporter": "python",
   "pygments_lexer": "ipython2",
   "version": "2.7.13"
  }
 },
 "nbformat": 4,
 "nbformat_minor": 2
}
